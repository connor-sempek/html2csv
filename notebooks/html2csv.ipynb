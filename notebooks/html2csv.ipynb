{
 "cells": [
  {
   "cell_type": "code",
   "execution_count": 19,
   "id": "10689da4",
   "metadata": {},
   "outputs": [],
   "source": [
    "from bs4 import BeautifulSoup\n",
    "import os\n",
    "import pandas as pd\n",
    "import requests\n",
    "import shutil"
   ]
  },
  {
   "cell_type": "code",
   "execution_count": 35,
   "id": "c3783fcf",
   "metadata": {},
   "outputs": [],
   "source": [
    "OUTPUT_DIR_PATH = '.'\n",
    "OUTPUT_DIR_NAME = 'html2csv_output'\n",
    "\n",
    "def make_output_dir(return_dir=False, overwrite=False):\n",
    "    output_dir = os.path.join(f'{OUTPUT_DIR_PATH}', f'{OUTPUT_DIR_NAME}')\n",
    "    dir_exists = os.path.isdir(output_dir)\n",
    "    \n",
    "    if dir_exists:\n",
    "        if overwrite == True:\n",
    "            print(f'Deleting the directory {output_dir} ...')\n",
    "            shutil.rmtree(output_dir)\n",
    "            print(f'Done.\\n')\n",
    "\n",
    "            print(f'Creating output directory at {output_dir} ...')\n",
    "            os.mkdir(output_dir)\n",
    "            print('Done.\\n')\n",
    "        else:\n",
    "            print(f'The directory {output_dir} already exists. To overwrite the directory set `overwrite=False`.')\n",
    "    else:\n",
    "        print(f'Creating output directory at {output_dir} ...')\n",
    "        os.mkdir(output_dir)\n",
    "        print('Done.')\n",
    "        \n",
    "    # return dir name if `return_dir=True`\n",
    "    if return_dir:\n",
    "        return output_dir\n",
    "    \n",
    "def pandas_html2csv(url, write=True):\n",
    "    dfs = pd.read_html(url)\n",
    "    if write == True:\n",
    "        output_dir = make_output_dir(return_dir=True, overwrite=True)\n",
    "        for i, df in enumerate(dfs):\n",
    "            fn = f'html2csv_pandas_{i}.csv'\n",
    "            fp = os.path.join(output_dir, fn)\n",
    "            df.to_csv(fp)\n",
    "            print(f'Wrote table to csv: {fp}')\n",
    "        print('Done.')\n",
    "    else:\n",
    "        print(*dfs)"
   ]
  },
  {
   "cell_type": "markdown",
   "id": "c78b59c9",
   "metadata": {},
   "source": [
    "### Usage"
   ]
  },
  {
   "cell_type": "code",
   "execution_count": 36,
   "id": "e7ea52a7",
   "metadata": {},
   "outputs": [],
   "source": [
    "url = 'https://www.halhigdon.com/training-programs/half-marathon-training/novice-2-half-marathon/'"
   ]
  },
  {
   "cell_type": "markdown",
   "id": "62b507e3",
   "metadata": {},
   "source": [
    "### Use pandas to load html tables to list of dataframes"
   ]
  },
  {
   "cell_type": "code",
   "execution_count": 37,
   "id": "dd9c5a40",
   "metadata": {},
   "outputs": [
    {
     "name": "stdout",
     "output_type": "stream",
     "text": [
      "Deleting the directory ./html2csv_output ...\n",
      "Done.\n",
      "\n",
      "Creating output directory at ./html2csv_output ...\n",
      "Done.\n",
      "\n",
      "Wrote table to csv: ./html2csv_output/html2csv_pandas_0.csv\n",
      "Wrote table to csv: ./html2csv_output/html2csv_pandas_1.csv\n",
      "Done.\n"
     ]
    }
   ],
   "source": [
    "pandas_html2csv(url)"
   ]
  }
 ],
 "metadata": {
  "kernelspec": {
   "display_name": "Python 3 (ipykernel)",
   "language": "python",
   "name": "python3"
  },
  "language_info": {
   "codemirror_mode": {
    "name": "ipython",
    "version": 3
   },
   "file_extension": ".py",
   "mimetype": "text/x-python",
   "name": "python",
   "nbconvert_exporter": "python",
   "pygments_lexer": "ipython3",
   "version": "3.10.0"
  }
 },
 "nbformat": 4,
 "nbformat_minor": 5
}
